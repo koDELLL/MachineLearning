{
  "nbformat": 4,
  "nbformat_minor": 0,
  "metadata": {
    "colab": {
      "provenance": [],
      "mount_file_id": "1OM0jLPdyXGdVBLfXqgQ9ag5QEUL1w59M",
      "authorship_tag": "ABX9TyP3QBLM+5MdeImsAWrmNxbQ",
      "include_colab_link": true
    },
    "kernelspec": {
      "name": "python3",
      "display_name": "Python 3"
    },
    "language_info": {
      "name": "python"
    }
  },
  "cells": [
    {
      "cell_type": "markdown",
      "metadata": {
        "id": "view-in-github",
        "colab_type": "text"
      },
      "source": [
        "<a href=\"https://colab.research.google.com/github/koDELLL/MachineLearning/blob/main/Tugas_Week_2_CitarumWater.ipynb\" target=\"_parent\"><img src=\"https://colab.research.google.com/assets/colab-badge.svg\" alt=\"Open In Colab\"/></a>"
      ]
    },
    {
      "cell_type": "markdown",
      "source": [
        "\n",
        "Berikut adalah penjelasan singkat untuk setiap baris kode di atas:\n",
        "\n",
        "import pandas as pd:\n",
        "\n",
        "Mengimpor library pandas, yang digunakan untuk mengelola data dalam bentuk tabel seperti DataFrame. Ini sering digunakan untuk membaca dan memproses dataset.\n",
        "from sklearn.model_selection import train_test_split:\n",
        "\n",
        "Mengimpor fungsi train_test_split dari library scikit-learn. Fungsi ini digunakan untuk membagi dataset menjadi dua bagian: data latih (training) dan data uji (testing).\n",
        "from sklearn.linear_model import LogisticRegression:\n",
        "\n",
        "Mengimpor model LogisticRegression dari scikit-learn. Model ini digunakan untuk klasifikasi biner atau multikelas, yang memprediksi probabilitas suatu kelas berdasarkan input fitur.\n",
        "from sklearn.metrics import accuracy_score, precision_score, recall_score, f1_score, roc_auc_score, roc_curve:\n",
        "\n",
        "Mengimpor beberapa metrik evaluasi yang digunakan untuk mengukur kinerja model klasifikasi:\n",
        "accuracy_score: Mengukur persentase prediksi yang benar dari total prediksi.\n",
        "precision_score: Mengukur proporsi prediksi positif yang benar.\n",
        "recall_score: Mengukur proporsi sampel positif yang diprediksi benar oleh model.\n",
        "f1_score: Menggabungkan precision dan recall menjadi satu metrik harmonis.\n",
        "roc_auc_score: Mengukur area di bawah kurva ROC (Receiver Operating Characteristic), metrik yang digunakan untuk mengevaluasi kinerja model klasifikasi.\n",
        "roc_curve: Menghasilkan data yang dibutuhkan untuk membuat grafik ROC, yang menunjukkan trade-off antara True Positive Rate (Recall) dan False Positive Rate.\n",
        "import matplotlib.pyplot as plt:\n",
        "\n",
        "Mengimpor library matplotlib.pyplot yang digunakan untuk membuat visualisasi data, seperti grafik dan kurva. Pada konteks ini, mungkin akan digunakan untuk memvisualisasikan kurva ROC (ROC Curve)."
      ],
      "metadata": {
        "id": "TM-iQekuS7Sz"
      }
    },
    {
      "cell_type": "code",
      "source": [
        "import pandas as pd\n",
        "from sklearn.model_selection import train_test_split\n",
        "from sklearn.linear_model import LogisticRegression\n",
        "from sklearn.metrics import accuracy_score, precision_score, recall_score, f1_score, roc_auc_score, roc_curve\n",
        "import matplotlib.pyplot as plt"
      ],
      "metadata": {
        "id": "IYDCxvaxxXAM"
      },
      "execution_count": null,
      "outputs": []
    },
    {
      "cell_type": "markdown",
      "source": [
        "Kodingan di atas berfungsi untuk memuat dataset dari file CSV yang bernama CitarumWater.csv. Berikut adalah penjelasan singkat dari setiap bagian kodingan:\n",
        "\n",
        "Import Library: Sebelum menjalankan kode ini, kita biasanya perlu mengimpor pustaka yang diperlukan, seperti pandas. Pastikan Anda sudah mengimpor pustaka ini dengan import pandas as pd.\n",
        "\n",
        "pd.read_csv(): Fungsi ini digunakan untuk membaca file CSV dan mengubahnya menjadi DataFrame, yaitu struktur data yang digunakan oleh pandas untuk menyimpan data dalam bentuk tabel. DataFrame ini memungkinkan analisis dan manipulasi data dengan lebih mudah.\n",
        "\n",
        "'/content/CitarumWater.csv': Ini adalah jalur file yang menunjukkan lokasi file CSV yang akan dimuat. Jika Anda menjalankan kode ini di Google Colab, direktori /content/ adalah tempat di mana file biasanya disimpan.\n",
        "\n",
        "Secara keseluruhan, kode ini akan menghasilkan sebuah objek DataFrame bernama data yang berisi data dari file CitarumWater.csv, dan Anda dapat menggunakan objek ini untuk analisis lebih lanjut."
      ],
      "metadata": {
        "id": "iXEmsyuiUAdd"
      }
    },
    {
      "cell_type": "code",
      "source": [
        "# Load dataset\n",
        "data = pd.read_csv('/content/CitarumWater.csv')\n"
      ],
      "metadata": {
        "id": "srTSh8Y_3VIR"
      },
      "execution_count": null,
      "outputs": []
    },
    {
      "cell_type": "markdown",
      "source": [
        "data['Temp']: Ini mengacu pada kolom 'Temp' dalam DataFrame data, yang berisi nilai suhu.\n",
        "\n",
        ".str.replace('°C', ''): Fungsi ini digunakan untuk menghapus string '°C' dari setiap nilai dalam kolom 'Temp'. Metode .str memungkinkan kita untuk melakukan operasi string pada setiap elemen dalam kolom. Setelah penghapusan, nilai dalam kolom tersebut akan menjadi string tanpa simbol '°C'.\n",
        "\n",
        ".astype(float): Setelah menghapus '°C', nilai-nilai tersebut masih dalam bentuk string. Metode ini mengonversi string yang tersisa menjadi tipe data float, sehingga dapat digunakan untuk analisis numerik atau perhitungan matematis di kemudian hari."
      ],
      "metadata": {
        "id": "MQnxBTjxUVTv"
      }
    },
    {
      "cell_type": "code",
      "source": [
        "\n",
        "# Data Preparation\n",
        "data['Temp'] = data['Temp'].str.replace('°C', '').astype(float)\n"
      ],
      "metadata": {
        "id": "Z7t1wxiC3eK2"
      },
      "execution_count": null,
      "outputs": []
    },
    {
      "cell_type": "markdown",
      "source": [
        "data.drop(columns=[...]): Metode drop() digunakan untuk menghapus satu atau lebih kolom dari DataFrame. Dalam hal ini, kita akan menghapus kolom-kolom yang tidak diperlukan untuk analisis lebih lanjut atau untuk pelatihan model.\n",
        "\n",
        "columns=['No', 'NamaSungai', 'TitikPantau', 'Waktu', 'O2']: Ini adalah daftar nama kolom yang ingin dihapus dari DataFrame.\n",
        "\n",
        "'No': Mungkin merupakan nomor urut yang tidak memiliki nilai analitis.\n",
        "'NamaSungai': Nama sungai yang mungkin tidak diperlukan untuk model.\n",
        "'TitikPantau': Titik pemantauan yang mungkin tidak relevan untuk analisis.\n",
        "'Waktu': Informasi waktu yang tidak dibutuhkan untuk pelatihan.\n",
        "'O2': Kolom ini mungkin tidak relevan untuk model yang ingin dibangun.\n",
        "cleaned_data: Hasil dari operasi ini disimpan dalam DataFrame baru yang disebut cleaned_data, yang sekarang hanya berisi kolom-kolom yang relevan untuk analisis atau pelatihan model."
      ],
      "metadata": {
        "id": "3b4Ey5V7UhPM"
      }
    },
    {
      "cell_type": "code",
      "source": [
        "# Drop irrelevant columns for training\n",
        "cleaned_data = data.drop(columns=['No', 'NamaSungai', 'TitikPantau', 'Waktu', 'O2'])"
      ],
      "metadata": {
        "id": "j2_BkXtO3krx"
      },
      "execution_count": null,
      "outputs": []
    },
    {
      "cell_type": "markdown",
      "source": [
        "cleaned_data.dropna(): Metode dropna() digunakan untuk menghapus semua baris yang memiliki satu atau lebih nilai hilang dalam DataFrame. Baris-baris yang tidak memiliki data lengkap tidak akan dipertimbangkan untuk analisis atau pelatihan model.\n",
        "\n",
        "cleaned_data: Hasil dari operasi ini akan disimpan kembali ke dalam DataFrame yang sama, yaitu cleaned_data. Ini berarti bahwa cleaned_data yang baru akan berisi hanya baris-baris yang memiliki semua nilai yang tersedia (tanpa nilai hilang)."
      ],
      "metadata": {
        "id": "wY26YyC8UuUF"
      }
    },
    {
      "cell_type": "code",
      "source": [
        "# Drop missing values\n",
        "cleaned_data = cleaned_data.dropna()"
      ],
      "metadata": {
        "id": "v2mAsc0Q3myZ"
      },
      "execution_count": null,
      "outputs": []
    },
    {
      "cell_type": "markdown",
      "source": [
        "X = cleaned_data.drop(columns=['Class']):\n",
        "\n",
        "Metode drop(columns=['Class']) digunakan untuk menghapus kolom 'Class' dari DataFrame cleaned_data.\n",
        "Hasilnya, X akan berisi semua kolom yang tersisa, yang berfungsi sebagai fitur (independent variables) yang akan digunakan untuk memprediksi nilai target.\n",
        "y = cleaned_data['Class']:\n",
        "\n",
        "Ini mengacu pada kolom 'Class' dalam cleaned_data, yang dianggap sebagai variabel target (dependent variable) yang ingin diprediksi oleh model.\n",
        "Hasilnya, y akan berisi semua nilai dari kolom 'Class', yang merupakan label yang ingin diprediksi berdasarkan fitur yang terdapat di X."
      ],
      "metadata": {
        "id": "U8W9E36jUyE6"
      }
    },
    {
      "cell_type": "code",
      "source": [
        "# Separate features and target\n",
        "X = cleaned_data.drop(columns=['Class'])\n",
        "y = cleaned_data['Class']"
      ],
      "metadata": {
        "id": "CQVmFX7C3p5w"
      },
      "execution_count": null,
      "outputs": []
    },
    {
      "cell_type": "markdown",
      "source": [
        "train_test_split(X, y, test_size=0.3, random_state=42):\n",
        "\n",
        "Fungsi train_test_split dari pustaka sklearn.model_selection digunakan untuk membagi dataset.\n",
        "X: Ini adalah fitur yang akan digunakan untuk pelatihan model.\n",
        "y: Ini adalah variabel target yang ingin diprediksi.\n",
        "test_size=0.3: Parameter ini menunjukkan bahwa 30% dari data akan digunakan sebagai data uji (testing set), sementara 70% sisanya akan digunakan sebagai data latih (training set).\n",
        "random_state=42: Ini adalah seed untuk generator angka acak, yang memastikan bahwa pembagian data akan konsisten setiap kali kode dijalankan. Dengan menetapkan nilai ini, Anda dapat mendapatkan hasil yang sama setiap kali melakukan pembagian, yang berguna untuk reproduktibilitas.\n",
        "X_train, X_test, y_train, y_test:\n",
        "\n",
        "Hasil dari fungsi train_test_split akan dibagi menjadi empat variabel:\n",
        "X_train: Fitur untuk data latih.\n",
        "X_test: Fitur untuk data uji.\n",
        "y_train: Variabel target untuk data latih.\n",
        "y_test: Variabel target untuk data uji.\n"
      ],
      "metadata": {
        "id": "p5BEy9sYVE7U"
      }
    },
    {
      "cell_type": "code",
      "source": [
        "# Split the data into train and test sets\n",
        "X_train, X_test, y_train, y_test = train_test_split(X, y, test_size=0.3, random_state=42)"
      ],
      "metadata": {
        "id": "3haxoG7K3slw"
      },
      "execution_count": null,
      "outputs": []
    },
    {
      "cell_type": "markdown",
      "source": [
        "logreg = LogisticRegression(max_iter=1000):\n",
        "\n",
        "Ini adalah inisialisasi model regresi logistik dari pustaka sklearn.linear_model.\n",
        "max_iter=1000: Parameter ini mengatur jumlah maksimum iterasi untuk algoritma pelatihan. Menetapkan nilai ini ke 1000 membantu memastikan konvergensi model, terutama jika data sulit untuk dilatih.\n",
        "logreg.fit(X_train, y_train):\n",
        "\n",
        "Metode fit() digunakan untuk melatih model menggunakan data pelatihan.\n",
        "X_train: Ini adalah fitur yang digunakan untuk melatih model.\n",
        "y_train: Ini adalah variabel target yang sesuai dengan fitur dalam X_train."
      ],
      "metadata": {
        "id": "k5gu1_obVH7J"
      }
    },
    {
      "cell_type": "code",
      "source": [
        "# Train Logistic Regression model\n",
        "logreg = LogisticRegression(max_iter=1000)\n",
        "logreg.fit(X_train, y_train)"
      ],
      "metadata": {
        "colab": {
          "base_uri": "https://localhost:8080/",
          "height": 219
        },
        "id": "DFJIt80d3xis",
        "outputId": "87772189-0266-41cb-b60c-66fe1ef42064"
      },
      "execution_count": null,
      "outputs": [
        {
          "output_type": "stream",
          "name": "stderr",
          "text": [
            "/usr/local/lib/python3.10/dist-packages/sklearn/linear_model/_logistic.py:469: ConvergenceWarning: lbfgs failed to converge (status=1):\n",
            "STOP: TOTAL NO. of ITERATIONS REACHED LIMIT.\n",
            "\n",
            "Increase the number of iterations (max_iter) or scale the data as shown in:\n",
            "    https://scikit-learn.org/stable/modules/preprocessing.html\n",
            "Please also refer to the documentation for alternative solver options:\n",
            "    https://scikit-learn.org/stable/modules/linear_model.html#logistic-regression\n",
            "  n_iter_i = _check_optimize_result(\n"
          ]
        },
        {
          "output_type": "execute_result",
          "data": {
            "text/plain": [
              "LogisticRegression(max_iter=1000)"
            ],
            "text/html": [
              "<style>#sk-container-id-1 {\n",
              "  /* Definition of color scheme common for light and dark mode */\n",
              "  --sklearn-color-text: black;\n",
              "  --sklearn-color-line: gray;\n",
              "  /* Definition of color scheme for unfitted estimators */\n",
              "  --sklearn-color-unfitted-level-0: #fff5e6;\n",
              "  --sklearn-color-unfitted-level-1: #f6e4d2;\n",
              "  --sklearn-color-unfitted-level-2: #ffe0b3;\n",
              "  --sklearn-color-unfitted-level-3: chocolate;\n",
              "  /* Definition of color scheme for fitted estimators */\n",
              "  --sklearn-color-fitted-level-0: #f0f8ff;\n",
              "  --sklearn-color-fitted-level-1: #d4ebff;\n",
              "  --sklearn-color-fitted-level-2: #b3dbfd;\n",
              "  --sklearn-color-fitted-level-3: cornflowerblue;\n",
              "\n",
              "  /* Specific color for light theme */\n",
              "  --sklearn-color-text-on-default-background: var(--sg-text-color, var(--theme-code-foreground, var(--jp-content-font-color1, black)));\n",
              "  --sklearn-color-background: var(--sg-background-color, var(--theme-background, var(--jp-layout-color0, white)));\n",
              "  --sklearn-color-border-box: var(--sg-text-color, var(--theme-code-foreground, var(--jp-content-font-color1, black)));\n",
              "  --sklearn-color-icon: #696969;\n",
              "\n",
              "  @media (prefers-color-scheme: dark) {\n",
              "    /* Redefinition of color scheme for dark theme */\n",
              "    --sklearn-color-text-on-default-background: var(--sg-text-color, var(--theme-code-foreground, var(--jp-content-font-color1, white)));\n",
              "    --sklearn-color-background: var(--sg-background-color, var(--theme-background, var(--jp-layout-color0, #111)));\n",
              "    --sklearn-color-border-box: var(--sg-text-color, var(--theme-code-foreground, var(--jp-content-font-color1, white)));\n",
              "    --sklearn-color-icon: #878787;\n",
              "  }\n",
              "}\n",
              "\n",
              "#sk-container-id-1 {\n",
              "  color: var(--sklearn-color-text);\n",
              "}\n",
              "\n",
              "#sk-container-id-1 pre {\n",
              "  padding: 0;\n",
              "}\n",
              "\n",
              "#sk-container-id-1 input.sk-hidden--visually {\n",
              "  border: 0;\n",
              "  clip: rect(1px 1px 1px 1px);\n",
              "  clip: rect(1px, 1px, 1px, 1px);\n",
              "  height: 1px;\n",
              "  margin: -1px;\n",
              "  overflow: hidden;\n",
              "  padding: 0;\n",
              "  position: absolute;\n",
              "  width: 1px;\n",
              "}\n",
              "\n",
              "#sk-container-id-1 div.sk-dashed-wrapped {\n",
              "  border: 1px dashed var(--sklearn-color-line);\n",
              "  margin: 0 0.4em 0.5em 0.4em;\n",
              "  box-sizing: border-box;\n",
              "  padding-bottom: 0.4em;\n",
              "  background-color: var(--sklearn-color-background);\n",
              "}\n",
              "\n",
              "#sk-container-id-1 div.sk-container {\n",
              "  /* jupyter's `normalize.less` sets `[hidden] { display: none; }`\n",
              "     but bootstrap.min.css set `[hidden] { display: none !important; }`\n",
              "     so we also need the `!important` here to be able to override the\n",
              "     default hidden behavior on the sphinx rendered scikit-learn.org.\n",
              "     See: https://github.com/scikit-learn/scikit-learn/issues/21755 */\n",
              "  display: inline-block !important;\n",
              "  position: relative;\n",
              "}\n",
              "\n",
              "#sk-container-id-1 div.sk-text-repr-fallback {\n",
              "  display: none;\n",
              "}\n",
              "\n",
              "div.sk-parallel-item,\n",
              "div.sk-serial,\n",
              "div.sk-item {\n",
              "  /* draw centered vertical line to link estimators */\n",
              "  background-image: linear-gradient(var(--sklearn-color-text-on-default-background), var(--sklearn-color-text-on-default-background));\n",
              "  background-size: 2px 100%;\n",
              "  background-repeat: no-repeat;\n",
              "  background-position: center center;\n",
              "}\n",
              "\n",
              "/* Parallel-specific style estimator block */\n",
              "\n",
              "#sk-container-id-1 div.sk-parallel-item::after {\n",
              "  content: \"\";\n",
              "  width: 100%;\n",
              "  border-bottom: 2px solid var(--sklearn-color-text-on-default-background);\n",
              "  flex-grow: 1;\n",
              "}\n",
              "\n",
              "#sk-container-id-1 div.sk-parallel {\n",
              "  display: flex;\n",
              "  align-items: stretch;\n",
              "  justify-content: center;\n",
              "  background-color: var(--sklearn-color-background);\n",
              "  position: relative;\n",
              "}\n",
              "\n",
              "#sk-container-id-1 div.sk-parallel-item {\n",
              "  display: flex;\n",
              "  flex-direction: column;\n",
              "}\n",
              "\n",
              "#sk-container-id-1 div.sk-parallel-item:first-child::after {\n",
              "  align-self: flex-end;\n",
              "  width: 50%;\n",
              "}\n",
              "\n",
              "#sk-container-id-1 div.sk-parallel-item:last-child::after {\n",
              "  align-self: flex-start;\n",
              "  width: 50%;\n",
              "}\n",
              "\n",
              "#sk-container-id-1 div.sk-parallel-item:only-child::after {\n",
              "  width: 0;\n",
              "}\n",
              "\n",
              "/* Serial-specific style estimator block */\n",
              "\n",
              "#sk-container-id-1 div.sk-serial {\n",
              "  display: flex;\n",
              "  flex-direction: column;\n",
              "  align-items: center;\n",
              "  background-color: var(--sklearn-color-background);\n",
              "  padding-right: 1em;\n",
              "  padding-left: 1em;\n",
              "}\n",
              "\n",
              "\n",
              "/* Toggleable style: style used for estimator/Pipeline/ColumnTransformer box that is\n",
              "clickable and can be expanded/collapsed.\n",
              "- Pipeline and ColumnTransformer use this feature and define the default style\n",
              "- Estimators will overwrite some part of the style using the `sk-estimator` class\n",
              "*/\n",
              "\n",
              "/* Pipeline and ColumnTransformer style (default) */\n",
              "\n",
              "#sk-container-id-1 div.sk-toggleable {\n",
              "  /* Default theme specific background. It is overwritten whether we have a\n",
              "  specific estimator or a Pipeline/ColumnTransformer */\n",
              "  background-color: var(--sklearn-color-background);\n",
              "}\n",
              "\n",
              "/* Toggleable label */\n",
              "#sk-container-id-1 label.sk-toggleable__label {\n",
              "  cursor: pointer;\n",
              "  display: block;\n",
              "  width: 100%;\n",
              "  margin-bottom: 0;\n",
              "  padding: 0.5em;\n",
              "  box-sizing: border-box;\n",
              "  text-align: center;\n",
              "}\n",
              "\n",
              "#sk-container-id-1 label.sk-toggleable__label-arrow:before {\n",
              "  /* Arrow on the left of the label */\n",
              "  content: \"▸\";\n",
              "  float: left;\n",
              "  margin-right: 0.25em;\n",
              "  color: var(--sklearn-color-icon);\n",
              "}\n",
              "\n",
              "#sk-container-id-1 label.sk-toggleable__label-arrow:hover:before {\n",
              "  color: var(--sklearn-color-text);\n",
              "}\n",
              "\n",
              "/* Toggleable content - dropdown */\n",
              "\n",
              "#sk-container-id-1 div.sk-toggleable__content {\n",
              "  max-height: 0;\n",
              "  max-width: 0;\n",
              "  overflow: hidden;\n",
              "  text-align: left;\n",
              "  /* unfitted */\n",
              "  background-color: var(--sklearn-color-unfitted-level-0);\n",
              "}\n",
              "\n",
              "#sk-container-id-1 div.sk-toggleable__content.fitted {\n",
              "  /* fitted */\n",
              "  background-color: var(--sklearn-color-fitted-level-0);\n",
              "}\n",
              "\n",
              "#sk-container-id-1 div.sk-toggleable__content pre {\n",
              "  margin: 0.2em;\n",
              "  border-radius: 0.25em;\n",
              "  color: var(--sklearn-color-text);\n",
              "  /* unfitted */\n",
              "  background-color: var(--sklearn-color-unfitted-level-0);\n",
              "}\n",
              "\n",
              "#sk-container-id-1 div.sk-toggleable__content.fitted pre {\n",
              "  /* unfitted */\n",
              "  background-color: var(--sklearn-color-fitted-level-0);\n",
              "}\n",
              "\n",
              "#sk-container-id-1 input.sk-toggleable__control:checked~div.sk-toggleable__content {\n",
              "  /* Expand drop-down */\n",
              "  max-height: 200px;\n",
              "  max-width: 100%;\n",
              "  overflow: auto;\n",
              "}\n",
              "\n",
              "#sk-container-id-1 input.sk-toggleable__control:checked~label.sk-toggleable__label-arrow:before {\n",
              "  content: \"▾\";\n",
              "}\n",
              "\n",
              "/* Pipeline/ColumnTransformer-specific style */\n",
              "\n",
              "#sk-container-id-1 div.sk-label input.sk-toggleable__control:checked~label.sk-toggleable__label {\n",
              "  color: var(--sklearn-color-text);\n",
              "  background-color: var(--sklearn-color-unfitted-level-2);\n",
              "}\n",
              "\n",
              "#sk-container-id-1 div.sk-label.fitted input.sk-toggleable__control:checked~label.sk-toggleable__label {\n",
              "  background-color: var(--sklearn-color-fitted-level-2);\n",
              "}\n",
              "\n",
              "/* Estimator-specific style */\n",
              "\n",
              "/* Colorize estimator box */\n",
              "#sk-container-id-1 div.sk-estimator input.sk-toggleable__control:checked~label.sk-toggleable__label {\n",
              "  /* unfitted */\n",
              "  background-color: var(--sklearn-color-unfitted-level-2);\n",
              "}\n",
              "\n",
              "#sk-container-id-1 div.sk-estimator.fitted input.sk-toggleable__control:checked~label.sk-toggleable__label {\n",
              "  /* fitted */\n",
              "  background-color: var(--sklearn-color-fitted-level-2);\n",
              "}\n",
              "\n",
              "#sk-container-id-1 div.sk-label label.sk-toggleable__label,\n",
              "#sk-container-id-1 div.sk-label label {\n",
              "  /* The background is the default theme color */\n",
              "  color: var(--sklearn-color-text-on-default-background);\n",
              "}\n",
              "\n",
              "/* On hover, darken the color of the background */\n",
              "#sk-container-id-1 div.sk-label:hover label.sk-toggleable__label {\n",
              "  color: var(--sklearn-color-text);\n",
              "  background-color: var(--sklearn-color-unfitted-level-2);\n",
              "}\n",
              "\n",
              "/* Label box, darken color on hover, fitted */\n",
              "#sk-container-id-1 div.sk-label.fitted:hover label.sk-toggleable__label.fitted {\n",
              "  color: var(--sklearn-color-text);\n",
              "  background-color: var(--sklearn-color-fitted-level-2);\n",
              "}\n",
              "\n",
              "/* Estimator label */\n",
              "\n",
              "#sk-container-id-1 div.sk-label label {\n",
              "  font-family: monospace;\n",
              "  font-weight: bold;\n",
              "  display: inline-block;\n",
              "  line-height: 1.2em;\n",
              "}\n",
              "\n",
              "#sk-container-id-1 div.sk-label-container {\n",
              "  text-align: center;\n",
              "}\n",
              "\n",
              "/* Estimator-specific */\n",
              "#sk-container-id-1 div.sk-estimator {\n",
              "  font-family: monospace;\n",
              "  border: 1px dotted var(--sklearn-color-border-box);\n",
              "  border-radius: 0.25em;\n",
              "  box-sizing: border-box;\n",
              "  margin-bottom: 0.5em;\n",
              "  /* unfitted */\n",
              "  background-color: var(--sklearn-color-unfitted-level-0);\n",
              "}\n",
              "\n",
              "#sk-container-id-1 div.sk-estimator.fitted {\n",
              "  /* fitted */\n",
              "  background-color: var(--sklearn-color-fitted-level-0);\n",
              "}\n",
              "\n",
              "/* on hover */\n",
              "#sk-container-id-1 div.sk-estimator:hover {\n",
              "  /* unfitted */\n",
              "  background-color: var(--sklearn-color-unfitted-level-2);\n",
              "}\n",
              "\n",
              "#sk-container-id-1 div.sk-estimator.fitted:hover {\n",
              "  /* fitted */\n",
              "  background-color: var(--sklearn-color-fitted-level-2);\n",
              "}\n",
              "\n",
              "/* Specification for estimator info (e.g. \"i\" and \"?\") */\n",
              "\n",
              "/* Common style for \"i\" and \"?\" */\n",
              "\n",
              ".sk-estimator-doc-link,\n",
              "a:link.sk-estimator-doc-link,\n",
              "a:visited.sk-estimator-doc-link {\n",
              "  float: right;\n",
              "  font-size: smaller;\n",
              "  line-height: 1em;\n",
              "  font-family: monospace;\n",
              "  background-color: var(--sklearn-color-background);\n",
              "  border-radius: 1em;\n",
              "  height: 1em;\n",
              "  width: 1em;\n",
              "  text-decoration: none !important;\n",
              "  margin-left: 1ex;\n",
              "  /* unfitted */\n",
              "  border: var(--sklearn-color-unfitted-level-1) 1pt solid;\n",
              "  color: var(--sklearn-color-unfitted-level-1);\n",
              "}\n",
              "\n",
              ".sk-estimator-doc-link.fitted,\n",
              "a:link.sk-estimator-doc-link.fitted,\n",
              "a:visited.sk-estimator-doc-link.fitted {\n",
              "  /* fitted */\n",
              "  border: var(--sklearn-color-fitted-level-1) 1pt solid;\n",
              "  color: var(--sklearn-color-fitted-level-1);\n",
              "}\n",
              "\n",
              "/* On hover */\n",
              "div.sk-estimator:hover .sk-estimator-doc-link:hover,\n",
              ".sk-estimator-doc-link:hover,\n",
              "div.sk-label-container:hover .sk-estimator-doc-link:hover,\n",
              ".sk-estimator-doc-link:hover {\n",
              "  /* unfitted */\n",
              "  background-color: var(--sklearn-color-unfitted-level-3);\n",
              "  color: var(--sklearn-color-background);\n",
              "  text-decoration: none;\n",
              "}\n",
              "\n",
              "div.sk-estimator.fitted:hover .sk-estimator-doc-link.fitted:hover,\n",
              ".sk-estimator-doc-link.fitted:hover,\n",
              "div.sk-label-container:hover .sk-estimator-doc-link.fitted:hover,\n",
              ".sk-estimator-doc-link.fitted:hover {\n",
              "  /* fitted */\n",
              "  background-color: var(--sklearn-color-fitted-level-3);\n",
              "  color: var(--sklearn-color-background);\n",
              "  text-decoration: none;\n",
              "}\n",
              "\n",
              "/* Span, style for the box shown on hovering the info icon */\n",
              ".sk-estimator-doc-link span {\n",
              "  display: none;\n",
              "  z-index: 9999;\n",
              "  position: relative;\n",
              "  font-weight: normal;\n",
              "  right: .2ex;\n",
              "  padding: .5ex;\n",
              "  margin: .5ex;\n",
              "  width: min-content;\n",
              "  min-width: 20ex;\n",
              "  max-width: 50ex;\n",
              "  color: var(--sklearn-color-text);\n",
              "  box-shadow: 2pt 2pt 4pt #999;\n",
              "  /* unfitted */\n",
              "  background: var(--sklearn-color-unfitted-level-0);\n",
              "  border: .5pt solid var(--sklearn-color-unfitted-level-3);\n",
              "}\n",
              "\n",
              ".sk-estimator-doc-link.fitted span {\n",
              "  /* fitted */\n",
              "  background: var(--sklearn-color-fitted-level-0);\n",
              "  border: var(--sklearn-color-fitted-level-3);\n",
              "}\n",
              "\n",
              ".sk-estimator-doc-link:hover span {\n",
              "  display: block;\n",
              "}\n",
              "\n",
              "/* \"?\"-specific style due to the `<a>` HTML tag */\n",
              "\n",
              "#sk-container-id-1 a.estimator_doc_link {\n",
              "  float: right;\n",
              "  font-size: 1rem;\n",
              "  line-height: 1em;\n",
              "  font-family: monospace;\n",
              "  background-color: var(--sklearn-color-background);\n",
              "  border-radius: 1rem;\n",
              "  height: 1rem;\n",
              "  width: 1rem;\n",
              "  text-decoration: none;\n",
              "  /* unfitted */\n",
              "  color: var(--sklearn-color-unfitted-level-1);\n",
              "  border: var(--sklearn-color-unfitted-level-1) 1pt solid;\n",
              "}\n",
              "\n",
              "#sk-container-id-1 a.estimator_doc_link.fitted {\n",
              "  /* fitted */\n",
              "  border: var(--sklearn-color-fitted-level-1) 1pt solid;\n",
              "  color: var(--sklearn-color-fitted-level-1);\n",
              "}\n",
              "\n",
              "/* On hover */\n",
              "#sk-container-id-1 a.estimator_doc_link:hover {\n",
              "  /* unfitted */\n",
              "  background-color: var(--sklearn-color-unfitted-level-3);\n",
              "  color: var(--sklearn-color-background);\n",
              "  text-decoration: none;\n",
              "}\n",
              "\n",
              "#sk-container-id-1 a.estimator_doc_link.fitted:hover {\n",
              "  /* fitted */\n",
              "  background-color: var(--sklearn-color-fitted-level-3);\n",
              "}\n",
              "</style><div id=\"sk-container-id-1\" class=\"sk-top-container\"><div class=\"sk-text-repr-fallback\"><pre>LogisticRegression(max_iter=1000)</pre><b>In a Jupyter environment, please rerun this cell to show the HTML representation or trust the notebook. <br />On GitHub, the HTML representation is unable to render, please try loading this page with nbviewer.org.</b></div><div class=\"sk-container\" hidden><div class=\"sk-item\"><div class=\"sk-estimator fitted sk-toggleable\"><input class=\"sk-toggleable__control sk-hidden--visually\" id=\"sk-estimator-id-1\" type=\"checkbox\" checked><label for=\"sk-estimator-id-1\" class=\"sk-toggleable__label fitted sk-toggleable__label-arrow fitted\">&nbsp;&nbsp;LogisticRegression<a class=\"sk-estimator-doc-link fitted\" rel=\"noreferrer\" target=\"_blank\" href=\"https://scikit-learn.org/1.5/modules/generated/sklearn.linear_model.LogisticRegression.html\">?<span>Documentation for LogisticRegression</span></a><span class=\"sk-estimator-doc-link fitted\">i<span>Fitted</span></span></label><div class=\"sk-toggleable__content fitted\"><pre>LogisticRegression(max_iter=1000)</pre></div> </div></div></div></div>"
            ]
          },
          "metadata": {},
          "execution_count": 10
        }
      ]
    },
    {
      "cell_type": "markdown",
      "source": [
        "y_pred = logreg.predict(X_test):\n",
        "\n",
        "Metode predict() digunakan untuk menghasilkan prediksi kelas untuk data pengujian (X_test).\n",
        "y_pred: Ini adalah array yang berisi prediksi kelas (0 atau 1) untuk setiap contoh dalam data uji, berdasarkan model yang telah dilatih.\n",
        "y_pred_prob = logreg.predict_proba(X_test)[:, 1]:\n",
        "\n",
        "Metode predict_proba() digunakan untuk menghasilkan probabilitas untuk masing-masing kelas untuk setiap contoh dalam data uji.\n",
        "Hasil dari predict_proba(X_test) adalah array dua dimensi, di mana kolom pertama berisi probabilitas kelas 0 dan kolom kedua berisi probabilitas kelas 1.\n",
        "[:, 1]: Ini mengambil semua baris dan hanya kolom kedua, yang merupakan probabilitas untuk kelas 1.\n",
        "y_pred_prob: Ini adalah array yang berisi probabilitas dari setiap contoh dalam data uji untuk berada di kelas positif (kelas 1)."
      ],
      "metadata": {
        "id": "FmuuWVFLVX7E"
      }
    },
    {
      "cell_type": "code",
      "source": [
        "# Predict on test set\n",
        "y_pred = logreg.predict(X_test)\n",
        "y_pred_prob = logreg.predict_proba(X_test)[:, 1]"
      ],
      "metadata": {
        "id": "QZsUS3Fd30Fq"
      },
      "execution_count": null,
      "outputs": []
    },
    {
      "cell_type": "markdown",
      "source": [
        "accuracy = accuracy_score(y_test, y_pred):\n",
        "\n",
        "Fungsi accuracy_score digunakan untuk menghitung akurasi model, yaitu proporsi prediksi yang benar dibandingkan dengan total prediksi.\n",
        "accuracy: Ini adalah nilai akurasi yang menunjukkan seberapa baik model dalam mengklasifikasikan data uji.\n",
        "precision = precision_score(y_test, y_pred, average='weighted'):\n",
        "\n",
        "Fungsi precision_score digunakan untuk menghitung presisi, yaitu proporsi prediksi positif yang benar (true positives) dibandingkan dengan total prediksi positif.\n",
        "average='weighted': Ini berarti bahwa presisi dihitung untuk setiap kelas dan kemudian rata-ratanya ditimbang berdasarkan jumlah contoh dalam setiap kelas.\n",
        "precision: Ini adalah nilai presisi model.\n",
        "recall = recall_score(y_test, y_pred, average='weighted'):\n",
        "\n",
        "Fungsi recall_score digunakan untuk menghitung recall (sensitivitas), yaitu proporsi true positives dibandingkan dengan total contoh positif yang sebenarnya.\n",
        "average='weighted': Menghitung recall untuk setiap kelas dan menimbangnya sesuai dengan jumlah contoh dalam setiap kelas.\n",
        "recall: Ini adalah nilai recall model.\n",
        "f1 = f1_score(y_test, y_pred, average='weighted'):\n",
        "\n",
        "Fungsi f1_score digunakan untuk menghitung skor F1, yang merupakan harmoni rata-rata antara presisi dan recall. Skor F1 memberikan keseimbangan antara keduanya.\n",
        "average='weighted': Menghitung F1 score untuk setiap kelas dan menimbangnya berdasarkan jumlah contoh dalam setiap kelas.\n",
        "f1: Ini adalah nilai F1 model.\n",
        "auc = roc_auc_score(y_test, logreg.predict_proba(X_test), multi_class='ovr'):\n",
        "\n",
        "Fungsi roc_auc_score digunakan untuk menghitung Area Under the Curve (AUC) dari Receiver Operating Characteristic (ROC), yang menunjukkan kemampuan model dalam membedakan antara kelas positif dan negatif.\n",
        "multi_class='ovr': Parameter ini menunjukkan bahwa kita menggunakan pendekatan \"one-vs-rest\" untuk menghitung AUC dalam kasus klasifikasi multi-kelas.\n",
        "auc: Ini adalah nilai AUC model."
      ],
      "metadata": {
        "id": "3ylqAzIIVhfT"
      }
    },
    {
      "cell_type": "code",
      "source": [
        "# Calculate metrics\n",
        "accuracy = accuracy_score(y_test, y_pred)\n",
        "precision = precision_score(y_test, y_pred, average='weighted')\n",
        "recall = recall_score(y_test, y_pred, average='weighted')\n",
        "f1 = f1_score(y_test, y_pred, average='weighted')\n",
        "auc = roc_auc_score(y_test, logreg.predict_proba(X_test), multi_class='ovr')"
      ],
      "metadata": {
        "id": "N5xSCWbS328N"
      },
      "execution_count": null,
      "outputs": []
    },
    {
      "cell_type": "markdown",
      "source": [
        "Fungsi print() digunakan untuk menampilkan nilai akurasi.\n",
        "Format string f\"Akurasi: {accuracy:.4f}\" mengatur agar nilai akurasi ditampilkan dengan empat angka desimal.\n",
        "print(f\"Presisi: {precision:.4f}\"):\n",
        "\n",
        "Ini menampilkan nilai presisi model dengan format yang sama, yaitu empat angka desimal.\n",
        "print(f\"Recall: {recall:.4f}\"):\n",
        "\n",
        "Ini menampilkan nilai recall model dengan format empat angka desimal.\n",
        "print(f\"F1-Score: {f1:.4f}\"):\n",
        "\n",
        "Ini menampilkan nilai F1-Score model dengan format empat angka desimal.\n",
        "print(f\"AUC: {auc:.4f}\"):\n",
        "\n",
        "Ini menampilkan nilai AUC model dengan format empat angka desimal."
      ],
      "metadata": {
        "id": "eADkjTenVsfF"
      }
    },
    {
      "cell_type": "code",
      "source": [
        "# Display metrics\n",
        "print(f\"Akurasi: {accuracy:.4f}\")\n",
        "print(f\"Presisi: {precision:.4f}\")\n",
        "print(f\"Recall: {recall:.4f}\")\n",
        "print(f\"F1-Score: {f1:.4f}\")\n",
        "print(f\"AUC: {auc:.4f}\")"
      ],
      "metadata": {
        "colab": {
          "base_uri": "https://localhost:8080/"
        },
        "id": "5R4wx7CP35ci",
        "outputId": "7da79948-0c47-4b9c-e7fe-5e918aa2513c"
      },
      "execution_count": null,
      "outputs": [
        {
          "output_type": "stream",
          "name": "stdout",
          "text": [
            "Akurasi: 0.9507\n",
            "Presisi: 0.9508\n",
            "Recall: 0.9507\n",
            "F1-Score: 0.9505\n",
            "AUC: 0.9937\n"
          ]
        }
      ]
    },
    {
      "cell_type": "markdown",
      "source": [
        "ROC (Receiver Operating Characteristic) berdasarkan probabilitas prediksi model regresi logistik. Berikut adalah penjelasan singkat dari setiap bagian kodingan:\n",
        "\n",
        "fpr, tpr, _ = roc_curve(y_test, y_pred_prob, pos_label=logreg.classes_[1]):\n",
        "Fungsi roc_curve digunakan untuk menghitung False Positive Rate (FPR) dan True Positive Rate (TPR) yang diperlukan untuk menggambar kurva ROC.\n",
        "y_test: Ini adalah nilai sebenarnya dari kelas untuk data uji.\n",
        "y_pred_prob: Ini adalah probabilitas prediksi untuk kelas positif (kelas 1) yang dihasilkan oleh model.\n",
        "pos_label=logreg.classes_[1]: Parameter ini menetapkan label positif untuk kurva ROC. logreg.classes_[1] mengacu pada kelas kedua (kelas positif) dari model regresi logistik, yang biasanya merupakan kelas yang ingin kita identifikasi.\n",
        "fpr: Ini adalah array yang berisi nilai-nilai FPR pada berbagai ambang batas (threshold).\n",
        "tpr: Ini adalah array yang berisi nilai-nilai TPR pada berbagai ambang batas (threshold).\n",
        "_: Ini mengacu pada ambang batas (threshold) yang tidak disimpan, tetapi bisa digunakan jika diperlukan."
      ],
      "metadata": {
        "id": "0kM8uNAcV3XY"
      }
    },
    {
      "cell_type": "code",
      "source": [
        "# ROC curve\n",
        "fpr, tpr, _ = roc_curve(y_test, y_pred_prob, pos_label=logreg.classes_[1])"
      ],
      "metadata": {
        "id": "N_ROaT1o37zS"
      },
      "execution_count": null,
      "outputs": []
    },
    {
      "cell_type": "markdown",
      "source": [
        "plt.figure(figsize=(8, 6)):\n",
        "\n",
        "Ini mengatur ukuran gambar yang akan ditampilkan, dengan lebar 8 inci dan tinggi 6 inci.\n",
        "plt.plot(fpr, tpr, label=f'ROC curve (AUC = {auc:.2f})'):\n",
        "\n",
        "Fungsi plot() digunakan untuk menggambar kurva ROC menggunakan data yang telah dihitung sebelumnya, yaitu fpr (False Positive Rate) dan tpr (True Positive Rate).\n",
        "Parameter label menyertakan teks yang menunjukkan nilai AUC (Area Under the Curve), yang dihitung sebelumnya. Format f'ROC curve (AUC = {auc:.2f})' menampilkan AUC dengan dua angka desimal.\n",
        "plt.plot([0, 1], [0, 1], color='navy', linestyle='--'):\n",
        "\n",
        "Ini menggambar garis diagonal dari (0, 0) ke (1, 1), yang mewakili model acak. Garis ini digunakan sebagai baseline untuk membandingkan performa model.\n",
        "plt.xlabel('False Positive Rate'):\n",
        "\n",
        "Menetapkan label untuk sumbu X, yaitu \"False Positive Rate\".\n",
        "plt.ylabel('True Positive Rate'):\n",
        "\n",
        "Menetapkan label untuk sumbu Y, yaitu \"True Positive Rate\".\n",
        "plt.title('ROC Curve'):\n",
        "\n",
        "Menetapkan judul untuk plot, yaitu \"ROC Curve\".\n",
        "plt.legend(loc=\"lower right\"):\n",
        "\n",
        "Menambahkan legenda ke plot, yang menunjukkan informasi tentang kurva ROC dan nilai AUC, dengan posisi legenda di sudut kanan bawah.\n",
        "plt.show():\n",
        "\n",
        "Menampilkan plot yang telah dibuat."
      ],
      "metadata": {
        "id": "YsLxvabTWBYe"
      }
    },
    {
      "cell_type": "code",
      "source": [
        "# Plot ROC curve\n",
        "plt.figure(figsize=(8, 6))\n",
        "plt.plot(fpr, tpr, label=f'ROC curve (AUC = {auc:.2f})')\n",
        "plt.plot([0, 1], [0, 1], color='navy', linestyle='--')\n",
        "plt.xlabel('False Positive Rate')\n",
        "plt.ylabel('True Positive Rate')\n",
        "plt.title('ROC Curve')\n",
        "plt.legend(loc=\"lower right\")\n",
        "plt.show()"
      ],
      "metadata": {
        "colab": {
          "base_uri": "https://localhost:8080/",
          "height": 564
        },
        "id": "MRElJ_Fe3_j8",
        "outputId": "2241416c-9d6b-4823-94fb-83d6572829ee"
      },
      "execution_count": null,
      "outputs": [
        {
          "output_type": "display_data",
          "data": {
            "text/plain": [
              "<Figure size 800x600 with 1 Axes>"
            ],
            "image/png": "[encoded data removed]"
          },
          "metadata": {}
        }
      ]
    }
  ]
}